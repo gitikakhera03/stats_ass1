{
 "cells": [
  {
   "cell_type": "code",
   "execution_count": 1,
   "id": "1ddc6f94-5039-42e0-ade3-a22dbb85b532",
   "metadata": {},
   "outputs": [
    {
     "data": {
      "text/plain": [
       "'Q1. What is Statistics?\\nstatistics is organizing and interpretation of data \\nfor eg height of students in a class'"
      ]
     },
     "execution_count": 1,
     "metadata": {},
     "output_type": "execute_result"
    }
   ],
   "source": [
    "'''Q1. What is Statistics?\n",
    "statistics is organizing and interpretation of data \n",
    "for eg height of students in a class'''\n"
   ]
  },
  {
   "cell_type": "code",
   "execution_count": 3,
   "id": "ed58b6f0-00d1-4ac3-ae56-b78178e89d8f",
   "metadata": {},
   "outputs": [
    {
     "data": {
      "text/plain": [
       "'Q2. Define the different types of statistics and give an example of when each type might be used \\nstats are of two types 1)quantitative  eg-height of students \\n2)qualitative   eg-gender ,blood group'"
      ]
     },
     "execution_count": 3,
     "metadata": {},
     "output_type": "execute_result"
    }
   ],
   "source": [
    "'''Q2. Define the different types of statistics and give an example of when each type might be used \n",
    "stats are of two types 1)quantitative  eg-height of students \n",
    "2)qualitative   eg-gender ,blood group'''\n"
   ]
  },
  {
   "cell_type": "code",
   "execution_count": 4,
   "id": "4e420ded-957a-4196-84db-99597927b254",
   "metadata": {},
   "outputs": [
    {
     "data": {
      "text/plain": [
       "'Q3. What are the different types of data and how do they differ from each other? Provide an example of\\neach type of data.\\ndifferent types of data are of two types 1)quantitative  eg-height of students \\n2)qualitative   eg-gender ,blood group'"
      ]
     },
     "execution_count": 4,
     "metadata": {},
     "output_type": "execute_result"
    }
   ],
   "source": [
    "'''Q3. What are the different types of data and how do they differ from each other? Provide an example of\n",
    "each type of data.\n",
    "different types of data are of two types 1)quantitative  eg-height of students \n",
    "2)qualitative   eg-gender ,blood group'''\n"
   ]
  },
  {
   "cell_type": "code",
   "execution_count": 6,
   "id": "2bdf1c2d-1f7f-4630-9c15-ebd6ba8ff41a",
   "metadata": {},
   "outputs": [
    {
     "data": {
      "text/plain": [
       "'Q4. Categorise the following datasets with respect to quantitative and qualitative data types:\\n(i) Grading in exam: A+, A, B+, B, C+, C, D, E  - normal qualitative\\n(ii) Colour of mangoes: yellow, green, orange, red- normal qualitative\\n(iii) Height data of a class: [178.9, 179, 179.5, 176, 177.2, 178.3, 175.8,...]  continous quantitative\\n(iv) Number of mangoes exported by a farm: [500, 600, 478, 672, ...] quantitative'"
      ]
     },
     "execution_count": 6,
     "metadata": {},
     "output_type": "execute_result"
    }
   ],
   "source": [
    "'''Q4. Categorise the following datasets with respect to quantitative and qualitative data types:\n",
    "(i) Grading in exam: A+, A, B+, B, C+, C, D, E  - nominal qualitative\n",
    "(ii) Colour of mangoes: yellow, green, orange, red- nominal qualitative\n",
    "(iii) Height data of a class: [178.9, 179, 179.5, 176, 177.2, 178.3, 175.8,...]  continous quantitative\n",
    "(iv) Number of mangoes exported by a farm: [500, 600, 478, 672, ...] quantitative'''"
   ]
  },
  {
   "cell_type": "code",
   "execution_count": 7,
   "id": "0fea3f67-079c-484a-b115-28abc922c340",
   "metadata": {},
   "outputs": [
    {
     "data": {
      "text/plain": [
       "'Q5. Explain the concept of levels of measurement and give an example of a variable for each level.\\nlevels of measurement is done in which eeach value having their own preferences or number \\nfor eg\\nexcellent student \\n very good  student \\n good  student \\n poor student '"
      ]
     },
     "execution_count": 7,
     "metadata": {},
     "output_type": "execute_result"
    }
   ],
   "source": [
    "'''Q5. Explain the concept of levels of measurement and give an example of a variable for each level.\n",
    "levels of measurement is done in which eeach value having their own preferences or number \n",
    "for eg\n",
    "excellent student \n",
    " very good  student \n",
    " good  student \n",
    " poor student '''\n"
   ]
  },
  {
   "cell_type": "code",
   "execution_count": 8,
   "id": "5d391dca-adf7-46bc-9f68-fa28ac7bd968",
   "metadata": {},
   "outputs": [
    {
     "data": {
      "text/plain": [
       "'Q6. Why is it important to understand the level of measurement when analyzing data? Provide an\\nexample to illustrate your answer.\\n\\nto give the preference or to find the best onee\\nfor eg the position of a student in a class decide the best students of class\\n'"
      ]
     },
     "execution_count": 8,
     "metadata": {},
     "output_type": "execute_result"
    }
   ],
   "source": [
    "'''Q6. Why is it important to understand the level of measurement when analyzing data? Provide an\n",
    "example to illustrate your answer.\n",
    "\n",
    "to give the preference or to find the best onee\n",
    "for eg the position of a student in a class decide the best students of class\n",
    "'''\n"
   ]
  },
  {
   "cell_type": "code",
   "execution_count": 9,
   "id": "dc7baaea-c1bd-4da4-ba45-30298a13f7e5",
   "metadata": {},
   "outputs": [
    {
     "data": {
      "text/plain": [
       "'Q7. How nominal data type is different from ordinal data type.\\n\\nnominal data type means no positions are assigned to data for eg:Gender Male and female \\nand ordinal data type means positons are assigned to data that is first preference ,second preference and so on \\n'"
      ]
     },
     "execution_count": 9,
     "metadata": {},
     "output_type": "execute_result"
    }
   ],
   "source": [
    "'''Q7. How nominal data type is different from ordinal data type.\n",
    "\n",
    "nominal data type means no positions are assigned to data for eg:Gender Male and female \n",
    "and ordinal data type means positons are assigned to data that is first preference ,second preference and so on \n",
    "'''"
   ]
  },
  {
   "cell_type": "code",
   "execution_count": 10,
   "id": "1a4d992b-7df3-4006-8706-d4f450e2152a",
   "metadata": {},
   "outputs": [
    {
     "data": {
      "text/plain": [
       "'Q8. Which type of plot can be used to display data in terms of range?\\ngraph \\n'"
      ]
     },
     "execution_count": 10,
     "metadata": {},
     "output_type": "execute_result"
    }
   ],
   "source": [
    "'''Q8. Which type of plot can be used to display data in terms of range?\n",
    "graph \n",
    "'''"
   ]
  },
  {
   "cell_type": "code",
   "execution_count": 11,
   "id": "9f7e7238-03fe-4db8-8068-c1117c22e139",
   "metadata": {},
   "outputs": [
    {
     "data": {
      "text/plain": [
       "'Q9. Describe the difference between descriptive and inferential statistics. Give an example of each\\ntype of statistics and explain how they are used.\\n\\ndescriptive statistics means the calulations on a whole data set \\nand inferential means calculation is done on a sample data and interpretation must be take out from the sample data \\n\\neg of descriptive statistics means calculating the  average height of students \\n eg of inferential statistics. claculatong the problems of the area by taking the sample dsta from that particular area \\n'"
      ]
     },
     "execution_count": 11,
     "metadata": {},
     "output_type": "execute_result"
    }
   ],
   "source": [
    "'''Q9. Describe the difference between descriptive and inferential statistics. Give an example of each\n",
    "type of statistics and explain how they are used.\n",
    "\n",
    "descriptive statistics means the calulations on a whole data set \n",
    "and inferential means calculation is done on a sample data and interpretation must be take out from the sample data \n",
    "\n",
    "eg of descriptive statistics means calculating the  average height of students \n",
    " eg of inferential statistics. claculatong the problems of the area by taking the sample dsta from that particular area \n",
    "'''"
   ]
  },
  {
   "cell_type": "code",
   "execution_count": 12,
   "id": "98f443ec-a2eb-47fa-9a23-b27ed542b527",
   "metadata": {},
   "outputs": [
    {
     "data": {
      "text/plain": [
       "'Q10. What are some common measures of central tendency and variability used in statistics? Explain\\nhow each measure can be used to describe a dataset.\\n\\nmean -average of the dataset\\nmedian -middle element of the dataset \\nmoden -the dataset which occurs the mosttime '"
      ]
     },
     "execution_count": 12,
     "metadata": {},
     "output_type": "execute_result"
    }
   ],
   "source": [
    "'''Q10. What are some common measures of central tendency and variability used in statistics? Explain\n",
    "how each measure can be used to describe a dataset.\n",
    "\n",
    "mean -average of the dataset\n",
    "median -middle element of the dataset \n",
    "moden -the dataset which occurs the mosttime '''"
   ]
  },
  {
   "cell_type": "code",
   "execution_count": null,
   "id": "021d3072-6a73-4729-9e01-ec2d66d13754",
   "metadata": {},
   "outputs": [],
   "source": []
  }
 ],
 "metadata": {
  "kernelspec": {
   "display_name": "Python 3 (ipykernel)",
   "language": "python",
   "name": "python3"
  },
  "language_info": {
   "codemirror_mode": {
    "name": "ipython",
    "version": 3
   },
   "file_extension": ".py",
   "mimetype": "text/x-python",
   "name": "python",
   "nbconvert_exporter": "python",
   "pygments_lexer": "ipython3",
   "version": "3.10.8"
  }
 },
 "nbformat": 4,
 "nbformat_minor": 5
}
